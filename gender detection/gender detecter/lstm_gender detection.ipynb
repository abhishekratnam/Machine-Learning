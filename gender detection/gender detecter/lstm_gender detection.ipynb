{
 "cells": [
  {
   "cell_type": "code",
   "execution_count": 26,
   "metadata": {},
   "outputs": [
    {
     "name": "stdout",
     "output_type": "stream",
     "text": [
      "Enter your NameSonu Kumar\n",
      "Male\n"
     ]
    }
   ],
   "source": [
    "from numpy import loadtxt\n",
    "from keras.models import load_model\n",
    "import numpy as np\n",
    "# load model\n",
    "model = load_model('model.h5')\n",
    "max_word_len = 20\n",
    "char2idx = {}\n",
    "char_set =[' ', '.','END', 'a', 'c', 'b', 'e', 'd', 'g', 'f', 'i', 'h', 'k', 'j', 'm', 'l', 'o', 'n', 'q', 'p', 's', 'r', 'u', 't', 'w', 'v', 'y', 'x', 'z'] \n",
    "index = 0\n",
    "for ch in char_set:\n",
    "  char2idx[ch] = index\n",
    "  index += 1\n",
    "def convert_one_hot(word):\n",
    "  word_chars = []\n",
    "  char_set = 29\n",
    "  \n",
    "  for ch in word:\n",
    "    one_hot_vec = np.zeros(29,)\n",
    "    one_hot_vec[char2idx[ch]] = 1\n",
    "    word_chars.append(one_hot_vec)\n",
    "    \n",
    "  for _ in range(max_word_len - len(word)):\n",
    "    one_hot_vec = np.zeros(29,)\n",
    "    one_hot_vec[char2idx['END']] = 1\n",
    "    word_chars.append(one_hot_vec)\n",
    "  \n",
    "  word_chars = np.array(word_chars)\n",
    "  return word_chars\n",
    "# evaluate the model4/sgHtxqvR0ZKRKeSyXK5ykwOD5YJzsVpoZqxX3jRO2zccB8PF5Px4D6k4/sgHtxqvR0ZKRKeSyXK5ykwOD5YJzsVpoZqxX3jRO2zccB8PF5Px4D6k\n",
    "ip = input(\"Enter your Name\").lower()\n",
    "score = model.predict(convert_one_hot(ip).reshape(1,20,29))\n",
    "score[0]\n",
    "if score[0,0] > 0.70:\n",
    "    print(\"Female\")\n",
    "else:\n",
    "    print(\"Male\")"
   ]
  },
  {
   "cell_type": "code",
   "execution_count": null,
   "metadata": {},
   "outputs": [],
   "source": []
  },
  {
   "cell_type": "code",
   "execution_count": null,
   "metadata": {},
   "outputs": [],
   "source": []
  }
 ],
 "metadata": {
  "kernelspec": {
   "display_name": "Python 3",
   "language": "python",
   "name": "python3"
  },
  "language_info": {
   "codemirror_mode": {
    "name": "ipython",
    "version": 3
   },
   "file_extension": ".py",
   "mimetype": "text/x-python",
   "name": "python",
   "nbconvert_exporter": "python",
   "pygments_lexer": "ipython3",
   "version": "3.6.8"
  }
 },
 "nbformat": 4,
 "nbformat_minor": 2
}
