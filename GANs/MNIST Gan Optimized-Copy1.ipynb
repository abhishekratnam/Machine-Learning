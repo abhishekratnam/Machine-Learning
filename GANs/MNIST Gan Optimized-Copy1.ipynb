{
 "cells": [
  {
   "cell_type": "code",
   "execution_count": 1,
   "metadata": {},
   "outputs": [
    {
     "name": "stderr",
     "output_type": "stream",
     "text": [
      "Using TensorFlow backend.\n"
     ]
    }
   ],
   "source": [
    "from keras.datasets import mnist\n",
    "from keras.layers import *\n",
    "from keras.layers.advanced_activations import LeakyReLU\n",
    "from keras.models import Sequential,Model\n",
    "from keras.optimizers import Adam\n",
    "import numpy as np\n",
    "import math\n",
    "import matplotlib.pyplot as plt\n",
    "from keras.models import Sequential\n",
    "from keras.layers import Dense\n",
    "from keras.layers import Reshape\n",
    "from keras.layers.core import Activation\n",
    "from keras.layers.normalization import BatchNormalization\n",
    "from keras.layers.convolutional import UpSampling2D\n",
    "from keras.layers.convolutional import Conv2D, MaxPooling2D\n",
    "from keras.layers.core import Flatten\n"
   ]
  },
  {
   "cell_type": "code",
   "execution_count": 2,
   "metadata": {},
   "outputs": [],
   "source": [
    "(X_train,_),(_,_) = mnist.load_data()"
   ]
  },
  {
   "cell_type": "code",
   "execution_count": 3,
   "metadata": {},
   "outputs": [
    {
     "name": "stdout",
     "output_type": "stream",
     "text": [
      "(60000, 28, 28)\n"
     ]
    },
    {
     "data": {
      "image/png": "[encoded data removed]",
      "text/plain": [
       "<Figure size 432x288 with 1 Axes>"
      ]
     },
     "metadata": {},
     "output_type": "display_data"
    },
    {
     "name": "stdout",
     "output_type": "stream",
     "text": [
      "-1.0\n",
      "1.0\n",
      "(60000, 28, 28)\n"
     ]
    }
   ],
   "source": [
    "print(X_train.shape)\n",
    "plt.imshow(X_train[0])\n",
    "plt.show()\n",
    "#Normalization\n",
    "X_train = (X_train.astype('float32') - 127.5) / 127.5\n",
    "print(np.min(X_train))\n",
    "print(np.max(X_train))\n",
    "print(X_train.shape) "
   ]
  },
  {
   "cell_type": "code",
   "execution_count": 4,
   "metadata": {},
   "outputs": [],
   "source": [
    "TOTAL_EPOCH = 5\n",
    "BATCH_SIZE = 256\n",
    "NO_OF_BATCHES = int(X_train.shape[0]/BATCH_SIZE)\n",
    "HALF_BATCH = 128\n",
    "NOISE_DIM = 100\n",
    "adam = Adam(lr = 2e-4, beta_1=0.5)"
   ]
  },
  {
   "cell_type": "code",
   "execution_count": 5,
   "metadata": {
    "scrolled": true
   },
   "outputs": [
    {
     "name": "stderr",
     "output_type": "stream",
     "text": [
      "WARNING: Logging before flag parsing goes to stderr.\n",
      "W1022 13:52:59.467044 140046609622848 deprecation_wrapper.py:119] From /usr/local/lib/python3.6/dist-packages/keras/backend/tensorflow_backend.py:74: The name tf.get_default_graph is deprecated. Please use tf.compat.v1.get_default_graph instead.\n",
      "\n",
      "W1022 13:52:59.469616 140046609622848 deprecation_wrapper.py:119] From /usr/local/lib/python3.6/dist-packages/keras/backend/tensorflow_backend.py:517: The name tf.placeholder is deprecated. Please use tf.compat.v1.placeholder instead.\n",
      "\n",
      "W1022 13:52:59.472456 140046609622848 deprecation_wrapper.py:119] From /usr/local/lib/python3.6/dist-packages/keras/backend/tensorflow_backend.py:4138: The name tf.random_uniform is deprecated. Please use tf.random.uniform instead.\n",
      "\n",
      "W1022 13:52:59.539874 140046609622848 deprecation_wrapper.py:119] From /usr/local/lib/python3.6/dist-packages/keras/backend/tensorflow_backend.py:174: The name tf.get_default_session is deprecated. Please use tf.compat.v1.get_default_session instead.\n",
      "\n",
      "W1022 13:52:59.540764 140046609622848 deprecation_wrapper.py:119] From /usr/local/lib/python3.6/dist-packages/keras/backend/tensorflow_backend.py:181: The name tf.ConfigProto is deprecated. Please use tf.compat.v1.ConfigProto instead.\n",
      "\n",
      "W1022 13:52:59.644769 140046609622848 deprecation_wrapper.py:119] From /usr/local/lib/python3.6/dist-packages/keras/backend/tensorflow_backend.py:1834: The name tf.nn.fused_batch_norm is deprecated. Please use tf.compat.v1.nn.fused_batch_norm instead.\n",
      "\n",
      "W1022 13:52:59.897577 140046609622848 deprecation_wrapper.py:119] From /usr/local/lib/python3.6/dist-packages/keras/optimizers.py:790: The name tf.train.Optimizer is deprecated. Please use tf.compat.v1.train.Optimizer instead.\n",
      "\n",
      "W1022 13:52:59.910465 140046609622848 deprecation.py:323] From /usr/local/lib/python3.6/dist-packages/tensorflow/python/ops/nn_impl.py:180: add_dispatch_support.<locals>.wrapper (from tensorflow.python.ops.array_ops) is deprecated and will be removed in a future version.\n",
      "Instructions for updating:\n",
      "Use tf.where in 2.0, which has the same broadcast rule as np.where\n"
     ]
    },
    {
     "name": "stdout",
     "output_type": "stream",
     "text": [
      "_________________________________________________________________\n",
      "Layer (type)                 Output Shape              Param #   \n",
      "=================================================================\n",
      "dense_1 (Dense)              (None, 6272)              633472    \n",
      "_________________________________________________________________\n",
      "reshape_1 (Reshape)          (None, 7, 7, 128)         0         \n",
      "_________________________________________________________________\n",
      "leaky_re_lu_1 (LeakyReLU)    (None, 7, 7, 128)         0         \n",
      "_________________________________________________________________\n",
      "batch_normalization_1 (Batch (None, 7, 7, 128)         512       \n",
      "_________________________________________________________________\n",
      "conv2d_transpose_1 (Conv2DTr (None, 14, 14, 64)        204864    \n",
      "_________________________________________________________________\n",
      "leaky_re_lu_2 (LeakyReLU)    (None, 14, 14, 64)        0         \n",
      "_________________________________________________________________\n",
      "batch_normalization_2 (Batch (None, 14, 14, 64)        256       \n",
      "_________________________________________________________________\n",
      "conv2d_transpose_2 (Conv2DTr (None, 28, 28, 1)         1601      \n",
      "=================================================================\n",
      "Total params: 840,705\n",
      "Trainable params: 840,321\n",
      "Non-trainable params: 384\n",
      "_________________________________________________________________\n"
     ]
    }
   ],
   "source": [
    "generator = Sequential()\n",
    "generator.add(Dense(7 * 7 * 128, input_shape = (NOISE_DIM,)))\n",
    "generator.add(Reshape((7,7,128)))\n",
    "generator.add(LeakyReLU(0.2))\n",
    "generator.add(BatchNormalization())\n",
    "#14x14x64\n",
    "generator.add(Conv2DTranspose(64, kernel_size=(5,5),strides = (2,2),padding = 'same'))\n",
    "generator.add(LeakyReLU(0.2))\n",
    "generator.add(BatchNormalization())\n",
    "\n",
    "#28x28x1\n",
    "\n",
    "generator.add(Conv2DTranspose(1,  kernel_size=(5,5),strides = (2,2),padding = 'same',activation='tanh'))\n",
    "generator.compile(loss = 'binary_crossentropy',optimizer = adam)\n",
    "generator.summary()"
   ]
  },
  {
   "cell_type": "code",
   "execution_count": 6,
   "metadata": {},
   "outputs": [
    {
     "name": "stdout",
     "output_type": "stream",
     "text": [
      "_________________________________________________________________\n",
      "Layer (type)                 Output Shape              Param #   \n",
      "=================================================================\n",
      "conv2d_1 (Conv2D)            (None, 14, 14, 64)        1664      \n",
      "_________________________________________________________________\n",
      "leaky_re_lu_3 (LeakyReLU)    (None, 14, 14, 64)        0         \n",
      "_________________________________________________________________\n",
      "conv2d_2 (Conv2D)            (None, 7, 7, 128)         204928    \n",
      "_________________________________________________________________\n",
      "leaky_re_lu_4 (LeakyReLU)    (None, 7, 7, 128)         0         \n",
      "_________________________________________________________________\n",
      "flatten_1 (Flatten)          (None, 6272)              0         \n",
      "_________________________________________________________________\n",
      "dense_2 (Dense)              (None, 1)                 6273      \n",
      "=================================================================\n",
      "Total params: 212,865\n",
      "Trainable params: 212,865\n",
      "Non-trainable params: 0\n",
      "_________________________________________________________________\n"
     ]
    }
   ],
   "source": [
    "descriminator = Sequential()\n",
    "descriminator.add(Conv2D(64,(5,5),strides = (2,2),padding = 'same',input_shape = (28,28,1)))\n",
    "descriminator.add(LeakyReLU(0.2))\n",
    "\n",
    "\n",
    "descriminator.add(Conv2D(128,(5,5),strides = (2,2),padding = 'same'))\n",
    "descriminator.add(LeakyReLU(0.2))\n",
    "descriminator.add(Flatten())\n",
    "\n",
    "descriminator.add(Dense(1,activation = 'sigmoid'))\n",
    "descriminator.compile(loss = 'binary_crossentropy',optimizer = adam)\n",
    "descriminator.summary()"
   ]
  },
  {
   "cell_type": "markdown",
   "metadata": {},
   "source": [
    "# Gan"
   ]
  },
  {
   "cell_type": "code",
   "execution_count": 7,
   "metadata": {},
   "outputs": [],
   "source": [
    "descriminator.trainable = False\n",
    "gan_input = Input(shape = (NOISE_DIM,))\n",
    "generated_img = generator(gan_input)\n",
    "gan_output = descriminator(generated_img)\n",
    "\n",
    "model = Model(gan_input,gan_output)\n",
    "model.compile(loss='binary_crossentropy',optimizer = adam)\n",
    "\n"
   ]
  },
  {
   "cell_type": "code",
   "execution_count": null,
   "metadata": {},
   "outputs": [],
   "source": []
  },
  {
   "cell_type": "markdown",
   "metadata": {},
   "source": [
    "# Training Loop"
   ]
  },
  {
   "cell_type": "code",
   "execution_count": null,
   "metadata": {
    "scrolled": true
   },
   "outputs": [
    {
     "name": "stdout",
     "output_type": "stream",
     "text": [
      "(60000, 28, 28, 1)\n"
     ]
    },
    {
     "name": "stderr",
     "output_type": "stream",
     "text": [
      "/usr/local/lib/python3.6/dist-packages/keras/engine/training.py:490: UserWarning: Discrepancy between trainable weights and collected trainable weights, did you set `model.trainable` without calling `model.compile` after ?\n",
      "  'Discrepancy between trainable weights and collected trainable'\n",
      "/usr/local/lib/python3.6/dist-packages/keras/engine/training.py:490: UserWarning: Discrepancy between trainable weights and collected trainable weights, did you set `model.trainable` without calling `model.compile` after ?\n",
      "  'Discrepancy between trainable weights and collected trainable'\n",
      "/usr/local/lib/python3.6/dist-packages/keras/engine/training.py:490: UserWarning: Discrepancy between trainable weights and collected trainable weights, did you set `model.trainable` without calling `model.compile` after ?\n",
      "  'Discrepancy between trainable weights and collected trainable'\n"
     ]
    }
   ],
   "source": [
    "X_train = X_train.reshape(60000,28,28,1)\n",
    "print(X_train.shape)\n",
    "d_losses = []\n",
    "g_losses = []\n",
    "for epoch in range(TOTAL_EPOCH):\n",
    "    epoch_d_loss = 0.\n",
    "    epoch_g_loss = 0.\n",
    "    for step in range(NO_OF_BATCHES):\n",
    "        #Discriminator\n",
    "        #50% real data + 50% Fake Data\n",
    "        #Real Data\n",
    "        idx = np.random.randint(0,X_train.shape[0],HALF_BATCH)\n",
    "        real_imgs = X_train[idx]\n",
    "        #Fake data\n",
    "        noise = np.random.randint(0,1,size = (HALF_BATCH,NOISE_DIM))\n",
    "        fake_imgs = generator.predict(noise)\n",
    "        #labels\n",
    "        real_y = np.ones((HALF_BATCH,1))* 0.9\n",
    "        #One sided smoothing for descriminator \n",
    "        fake_y = np.zeros((HALF_BATCH,1))\n",
    "        \n",
    "        #Train Descriminator\n",
    "        d_loss_real = descriminator.train_on_batch(real_imgs,real_y)\n",
    "        \n",
    "        d_loss_fake = descriminator.train_on_batch(fake_imgs,fake_y)\n",
    "        \n",
    "        d_loss = 0.5 * d_loss_real + 0.5 * d_loss_fake\n",
    "        \n",
    "        epoch_d_loss += d_loss\n",
    "        \n",
    "        #Train Generator\n",
    "        \n",
    "        noise = np.random.normal(0,1,size = (BATCH_SIZE,NOISE_DIM))\n",
    "        \n",
    "        ground_truth_y = np.ones((BATCH_SIZE,1))\n",
    "        g_loss = model.train_on_batch(noise,ground_truth_y)\n",
    "        epoch_g_loss += g_loss\n",
    "    \n",
    "    print(\"Epoch %d Discriminator_loss %.4f Generator_loss %.4f\"%((epoch+1),epoch_d_loss,epoch_g_loss))\n",
    "        \n",
    "    #print(\"Epoch %d Discriminator_loss %.4f Generator_loss %.4f\"%((epoch+1),epoch_d_loss/NO_OF_BATCHES,epoch_g_loss/NO_OF_BATCHES))\n",
    "    d_losses.append(epoch_d_loss/NO_OF_BATCHES)\n",
    "    g_losses.append(epoch_g_loss/NO_OF_BATCHES)\n",
    "\n",
    "    def save_imgs(epoch,samples = 100):\n",
    "        noise = np.random.normal(0,1,size=(samples,NOISE_DIM))\n",
    "        generated_imgs = generator.predict(noise)\n",
    "        generated_imgs = generated_imgs.reshape(samples,28,28)\n",
    "        plt.figure(figsize = (100,100))\n",
    "        for i in range(samples):\n",
    "            plt.plot(50,50,i+1)\n",
    "            plt.imshow(generated_imgs[i],interpolation = 'nearest',cmap='gray')\n",
    "            plt.axis(\"off\")\n",
    "            plt.tight_layout()\n",
    "            plt.savefig('images/gan_out_epoch{0}.png'.format(epoch+1))\n",
    "            plt.show()\n",
    "    if(epoch+1) % 10 == 0:\n",
    "        generator.save('model/gan_generator1_{0}.h5'.format(save_imgs(epoch) ,epoch+1))\n",
    "   \n"
   ]
  },
  {
   "cell_type": "code",
   "execution_count": null,
   "metadata": {},
   "outputs": [],
   "source": [
    "plt.plot(d_loss,label=\"DISC\")\n",
    "plt.plot(g_loss, label=\"GEN\")\n",
    "plt.show()"
   ]
  },
  {
   "cell_type": "code",
   "execution_count": null,
   "metadata": {},
   "outputs": [],
   "source": [
    "\n",
    "idx = np.random.randint(0,X_train.shape[0],HALF_BATCH)\n",
    "real_imgs = X_train[idx]\n",
    "real_imgs.shape"
   ]
  },
  {
   "cell_type": "code",
   "execution_count": null,
   "metadata": {},
   "outputs": [],
   "source": [
    "noise = np.random.randint(0,1,size = (HALF_BATCH,NOISE_DIM))\n",
    "        \n",
    "noise.shape"
   ]
  },
  {
   "cell_type": "code",
   "execution_count": null,
   "metadata": {},
   "outputs": [],
   "source": []
  }
 ],
 "metadata": {
  "kernelspec": {
   "display_name": "Python 3",
   "language": "python",
   "name": "python3"
  },
  "language_info": {
   "codemirror_mode": {
    "name": "ipython",
    "version": 3
   },
   "file_extension": ".py",
   "mimetype": "text/x-python",
   "name": "python",
   "nbconvert_exporter": "python",
   "pygments_lexer": "ipython3",
   "version": "3.6.8"
  }
 },
 "nbformat": 4,
 "nbformat_minor": 2
}
