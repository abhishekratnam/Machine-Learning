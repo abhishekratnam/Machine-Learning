{
 "cells": [
  {
   "cell_type": "code",
   "execution_count": 26,
   "metadata": {},
   "outputs": [],
   "source": [
    "import numpy as np\n",
    "def generateTable(text,k=4):\n",
    "    T = {}\n",
    "    for i in range(len(text) - k):\n",
    "        x = text[i:i+k]\n",
    "        y = text[i+k]\n",
    "        \n",
    "        if T.get(x) is None:\n",
    "            T[x] = {}\n",
    "            T[x][y] = 1\n",
    "        else:\n",
    "            if T[x].get(y) is None:\n",
    "                T[x][y] = 1\n",
    "\n",
    "            else:\n",
    "                T[x][y] += 1\n",
    "    return T\n",
    "\n",
    "def convertFreqtoprob(T):\n",
    "    for kx in T.keys():\n",
    "        s = float(sum(T[kx].values()))\n",
    "        for k in T[kx].keys():\n",
    "            T[kx][k] = T[kx][k] / s\n",
    "    return T\n",
    "def trainMarkov(text,k = 4):\n",
    "    T = generateTable(text,k)\n",
    "    T = convertFreqtoprob(T)\n",
    "    return T\n",
    "def sample_next(ctx,T,k):\n",
    "    ctx = ctx[-k:]\n",
    "    if T.get(ctx) is None:\n",
    "        return \" \"\n",
    "    possible_Chars = list(T[ctx].keys())\n",
    "    possible_values = list(T[ctx].values())\n",
    "    \n",
    "    return np.random.choice(possible_Chars, p= possible_values)\n",
    "\n",
    "def generateText(starting_sent,k=4,max_len = 1000):\n",
    "    sentence = starting_sent\n",
    "    ctx = starting_sent[-k:]\n",
    "    for i in range(max_len):\n",
    "        next_prediction = sample_next(ctx,model,k)\n",
    "        sentence += next_prediction\n",
    "        ctx = sentence[-k:]\n",
    "    return sentence"
   ]
  },
  {
   "cell_type": "code",
   "execution_count": 34,
   "metadata": {},
   "outputs": [],
   "source": [
    "text_path = \"/home/abhi/ML/ML projects/Apnatyimeayegaprojectlyricsgeneration/Apna Time Aayega.txt\"\n",
    "def load(text_path):\n",
    "    with open(text_path,encoding='utf8') as f:\n",
    "        return f.read().lower()\n",
    "text = load(text_path)\n",
    "model = trainMarkov(text)\n",
    "sample_next(\"apna\",model,4)\n",
    "x = generateText(\"apna\",k=4,max_len=2000)\n"
   ]
  },
  {
   "cell_type": "code",
   "execution_count": 35,
   "metadata": {},
   "outputs": [],
   "source": [
    "with open(\"Output.txt\", \"w\") as text_file:\n",
    "    print(x, file=text_file)"
   ]
  },
  {
   "cell_type": "code",
   "execution_count": null,
   "metadata": {},
   "outputs": [],
   "source": []
  }
 ],
 "metadata": {
  "kernelspec": {
   "display_name": "Python 3",
   "language": "python",
   "name": "python3"
  },
  "language_info": {
   "codemirror_mode": {
    "name": "ipython",
    "version": 3
   },
   "file_extension": ".py",
   "mimetype": "text/x-python",
   "name": "python",
   "nbconvert_exporter": "python",
   "pygments_lexer": "ipython3",
   "version": "3.6.8"
  }
 },
 "nbformat": 4,
 "nbformat_minor": 2
}
